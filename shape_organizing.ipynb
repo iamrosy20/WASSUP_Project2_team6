{
  "nbformat": 4,
  "nbformat_minor": 0,
  "metadata": {
    "colab": {
      "provenance": [],
      "authorship_tag": "ABX9TyM/zL76t+4TZ90wE9njO+3i"
    },
    "kernelspec": {
      "name": "python3",
      "display_name": "Python 3"
    },
    "language_info": {
      "name": "python"
    }
  },
  "cells": [
    {
      "cell_type": "code",
      "execution_count": null,
      "metadata": {
        "id": "e-p34204NhC8"
      },
      "outputs": [],
      "source": [
        "import os\n",
        "import pandas as pd\n",
        "import shutil\n",
        "\n",
        "# Read every file name\n",
        "file_list = os.listdir('data/modified_images')\n",
        "\n",
        "# Split file name and its extension\n",
        "file_name = []\n",
        "for one_file_list in file_list:\n",
        "  name = one_file_list.split('.')[0]\n",
        "  file_name.append(name)\n",
        "\n",
        "# Load drug_data.csv\n",
        "df = pd.read_csv('data/drug_data.csv')\n",
        "\n",
        "# Check shape of pill and copy image into appropriate folder\n",
        "for one_file in file_name:\n",
        "  source = f'data/modified_images/{one_file}.png'\n",
        "\n",
        "  index_num = df[df['품목일련번호'] == int(one_file)].index\n",
        "  if df.iloc[index_num[0]]['의약품제형'] == '원형':        # circle 9908\n",
        "    destination = f'data/shape/circle/{one_file}.png'\n",
        "  elif df.iloc[index_num[0]]['의약품제형'] == '장방형':    # rectangle 7112\n",
        "    destination = f'data/shape/rectangle/{one_file}.png'\n",
        "  elif df.iloc[index_num[0]]['의약품제형'] == '타원형':    # ellipse 6712\n",
        "    destination = f'data/shape/ellipse/{one_file}.png'\n",
        "  elif df.iloc[index_num[0]]['의약품제형'] == '사각형':    # square 281\n",
        "    destination = f'data/shape/square/{one_file}.png'\n",
        "  elif df.iloc[index_num[0]]['의약품제형'] == '팔각형':    # octagon 275\n",
        "    destination = f'data/shape/octagon/{one_file}.png'\n",
        "  elif df.iloc[index_num[0]]['의약품제형'] == '삼각형':    # triangle 235\n",
        "    destination = f'data/shape/triangle/{one_file}.png'\n",
        "  elif df.iloc[index_num[0]]['의약품제형'] == '마름모형':  # rhombus 91\n",
        "    destination = f'data/shape/rhombus/{one_file}.png'\n",
        "  elif df.iloc[index_num[0]]['의약품제형'] == '오각형':    # pentagon 58\n",
        "    destination = f'data/shape/pentagon/{one_file}.png'\n",
        "  elif df.iloc[index_num[0]]['의약품제형'] == '육각형':    # hexagon 50\n",
        "    destination = f'data/shape/hexagon/{one_file}.png'\n",
        "  elif df.iloc[index_num[0]]['의약품제형'] == '반원형':    # semicircle 3\n",
        "    destination = f'data/shape/semicircle/{one_file}.png'\n",
        "  else:                                                   # etc 490\n",
        "    destination = f'data/shape/etc/{one_file}.png'\n",
        "\n",
        "  shutil.copyfile(source, destination)\n",
        "\n",
        "circle_list = os.listdir('data/shape/circle')\n",
        "rectangle_list = os.listdir('data/shape/rectangle')\n",
        "ellipse_list = os.listdir('data/shape/ellipse')\n",
        "square_list = os.listdir('data/shape/square')\n",
        "octagon_list = os.listdir('data/shape/octagon')\n",
        "triangle_list = os.listdir('data/shape/triangle')\n",
        "rhombus_list = os.listdir('data/shape/rhombus')\n",
        "pentagon_list = os.listdir('data/shape/pentagon')\n",
        "hexagon_list = os.listdir('data/shape/hexagon')\n",
        "semicircle_list = os.listdir('data/shape/semicircle')\n",
        "etc_list = os.listdir('data/shape/etc')\n",
        "\n",
        "print(len(circle_list))         # 9706\n",
        "print(len(rectangle_list))      # 6948\n",
        "print(len(ellipse_list))        # 6666\n",
        "print(len(square_list))         # 276\n",
        "print(len(octagon_list))        # 274\n",
        "print(len(triangle_list))       # 235\n",
        "print(len(rhombus_list))        # 91\n",
        "print(len(pentagon_list))       # 58\n",
        "print(len(hexagon_list))        # 50\n",
        "print(len(semicircle_list))     # 3\n",
        "print(len(etc_list))            # 479"
      ]
    }
  ]
}
